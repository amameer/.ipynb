{
 "cells": [
  {
   "cell_type": "markdown",
   "metadata": {},
   "source": [
    "# 2016 US Bike Share Activity Snapshot\n",
    "\n",
    "## Table of Contents\n",
    "- [Introduction](#intro)\n",
    "- [Posing Questions](#pose_questions)\n",
    "- [Data Collection and Wrangling](#wrangling)\n",
    "  - [Condensing the Trip Data](#condensing)\n",
    "- [Exploratory Data Analysis](#eda)\n",
    "  - [Statistics](#statistics)\n",
    "  - [Visualizations](#visualizations)\n",
    "- [Performing Your Own Analysis](#eda_continued)\n",
    "- [Conclusions](#conclusions)\n",
    "\n",
    "<a id='intro'></a>\n",
    "## Introduction\n",
    "\n",
    "> **Tip**: Quoted sections like this will provide helpful instructions on how to navigate and use a Jupyter notebook.\n",
    "\n",
    "Over the past decade, bicycle-sharing systems have been growing in number and popularity in cities across the world. Bicycle-sharing systems allow users to rent bicycles for short trips, typically 30 minutes or less. Thanks to the rise in information technologies, it is easy for a user of the system to access a dock within the system to unlock or return bicycles. These technologies also provide a wealth of data that can be used to explore how these bike-sharing systems are used.\n",
    "\n",
    "In this project, you will perform an exploratory analysis on data provided by [Motivate](https://www.motivateco.com/), a bike-share system provider for many major cities in the United States. You will compare the system usage between three large cities: New York City, Chicago, and Washington, DC. You will also see if there are any differences within each system for those users that are registered, regular users and those users that are short-term, casual users."
   ]
  },
  {
   "cell_type": "markdown",
   "metadata": {},
   "source": [
    "# <a id='pose_questions'></a>\n",
    "## Posing Questions\n",
    "\n",
    "Before looking at the bike sharing data, you should start by asking questions you might want to understand about the bike share data. Consider, for example, if you were working for Motivate. What kinds of information would you want to know about in order to make smarter business decisions? If you were a user of the bike-share service, what factors might influence how you would want to use the service?\n",
    "\n",
    "**Question 1**: Write at least two questions related to bike sharing that you think could be answered by data.\n",
    "\n",
    "**Answer**:\n",
    "- Who are the most users, citezen or tourists?\n",
    "- Are the user try to use this service again ? percentage of these users?\n",
    "\n",
    "> **Tip**: If you double click on this cell, you will see the text change so that all of the formatting is removed. This allows you to edit this block of text. Th\n",
    "is block of text is written using [Markdown](http://daringfireball.net/projects/markdown/syntax), which is a way to format text using headers, links, italics, and many other options using a plain-text syntax. You will also use Markdown later in the Nanodegree program. Use **Shift** + **Enter** or **Shift** + **Return** to run the cell and show its rendered form."
   ]
  },
  {
   "cell_type": "markdown",
   "metadata": {},
   "source": [
    "<a id='wrangling'></a>\n",
    "## Data Collection and Wrangling\n",
    "\n",
    "Now it's time to collect and explore our data. In this project, we will focus on the record of individual trips taken in 2016 from our selected cities: New York City, Chicago, and Washington, DC. Each of these cities has a page where we can freely download the trip data.:\n",
    "\n",
    "- New York City (Citi Bike): [Link](https://www.citibikenyc.com/system-data)\n",
    "- Chicago (Divvy): [Link](https://www.divvybikes.com/system-data)\n",
    "- Washington, DC (Capital Bikeshare): [Link](https://www.capitalbikeshare.com/system-data)\n",
    "\n",
    "\n",
    "If you visit these pages, you will notice that each city has a different way of delivering its data. Chicago updates with new data twice a year, Washington DC is quarterly, and New York City is monthly. **However, you do not need to download the data yourself.** The data has already been collected for you in the `/data/` folder of the project files. While the original data for 2016 is spread among multiple files for each city, the files in the `/data/` folder collect all of the trip data for the year into one file per city. Some data wrangling of inconsistencies in timestamp format within each city has already been performed for you. In addition, a random 2% sample of the original data is taken to make the exploration more manageable. \n",
    "\n",
    "**Question 2**: However, there is still a lot of data for us to investigate, so it's a good idea to start off by looking at one entry from each of the cities we're going to analyze. Run the first code cell below to load some packages and functions that you'll be using in your analysis. Then, complete the second code cell to print out the first trip recorded from each of the cities (the second line of each data file).\n",
    "\n",
    "> **Tip**: You can run a code cell like you formatted Markdown cells above by clicking on the cell and using the keyboard shortcut **Shift** + **Enter** or **Shift** + **Return**. Alternatively, a code cell can be executed using the **Play** button in the toolbar after selecting it. While the cell is running, you will see an asterisk in the message to the left of the cell, i.e. `In [*]:`. The asterisk will change into a number to show that execution has completed, e.g. `In [1]`. If there is output, it will show up as `Out [1]:`, with an appropriate number to match the \"In\" number."
   ]
  },
  {
   "cell_type": "code",
   "execution_count": 35,
   "metadata": {},
   "outputs": [],
   "source": [
    "## import all necessary packages and functions.\n",
    "import csv # read and write csv files\n",
    "from datetime import datetime # operations to parse dates\n",
    "from pprint import pprint # use to print data structures like dictionaries in\n",
    "                          # a nicer way than the base print function."
   ]
  },
  {
   "cell_type": "code",
   "execution_count": 36,
   "metadata": {},
   "outputs": [
    {
     "name": "stdout",
     "output_type": "stream",
     "text": [
      "\n",
      "City: NYC\n",
      "OrderedDict([('tripduration', '839'), ('starttime', '1/1/2016 00:09:55'), ('stoptime', '1/1/2016 00:23:54'), ('start station id', '532'), ('start station name', 'S 5 Pl & S 4 St'), ('start station latitude', '40.710451'), ('start station longitude', '-73.960876'), ('end station id', '401'), ('end station name', 'Allen St & Rivington St'), ('end station latitude', '40.72019576'), ('end station longitude', '-73.98997825'), ('bikeid', '17109'), ('usertype', 'Customer'), ('birth year', ''), ('gender', '0')])\n",
      "\n",
      "City: Chicago\n",
      "OrderedDict([('trip_id', '9080545'), ('starttime', '3/31/2016 23:30'), ('stoptime', '3/31/2016 23:46'), ('bikeid', '2295'), ('tripduration', '926'), ('from_station_id', '156'), ('from_station_name', 'Clark St & Wellington Ave'), ('to_station_id', '166'), ('to_station_name', 'Ashland Ave & Wrightwood Ave'), ('usertype', 'Subscriber'), ('gender', 'Male'), ('birthyear', '1990')])\n",
      "\n",
      "City: Washington\n",
      "OrderedDict([('Duration (ms)', '427387'), ('Start date', '3/31/2016 22:57'), ('End date', '3/31/2016 23:04'), ('Start station number', '31602'), ('Start station', 'Park Rd & Holmead Pl NW'), ('End station number', '31207'), ('End station', 'Georgia Ave and Fairmont St NW'), ('Bike number', 'W20842'), ('Member Type', 'Registered')])\n"
     ]
    }
   ],
   "source": [
    "def print_first_point(filename):\n",
    "    \"\"\"\n",
    "    This function prints and returns the first data point (second row) from\n",
    "    a csv file that includes a header row.\n",
    "    \"\"\"\n",
    "    # print city name for reference\n",
    "    city = filename.split('-')[0].split('/')[-1]\n",
    "    print('\\nCity: {}'.format(city))\n",
    "    \n",
    "    with open(filename, 'r') as f_in:\n",
    "        ## TODO: Use the csv library to set up a DictReader object. ##\n",
    "        ## see https://docs.python.org/3/library/csv.html           ##\n",
    "        trip_reader = csv.DictReader(f_in)\n",
    "        \n",
    "        ## TODO: Use a function on the DictReader object to read the     ##\n",
    "        ## first trip from the data file and store it in a variable.     ##\n",
    "        ## see https://docs.python.org/3/library/csv.html#reader-objects ##\n",
    "        first_trip =next(trip_reader)\n",
    "        \n",
    "        ## TODO: Use the pprint library to print the first trip. ##\n",
    "        ## see https://docs.python.org/3/library/pprint.html     ##\n",
    "        print(first_trip)\n",
    "    # output city name and first trip for later testing\n",
    "    return (city, first_trip)\n",
    "\n",
    "# list of files for each city\n",
    "data_files = ['./data/NYC-CitiBike-2016.csv',\n",
    "              './data/Chicago-Divvy-2016.csv',\n",
    "              './data/Washington-CapitalBikeshare-2016.csv',]\n",
    "\n",
    "# print the first trip from each file, store in dictionary\n",
    "example_trips = {}\n",
    "for data_file in data_files:\n",
    "    city, first_trip = print_first_point(data_file)\n",
    "    example_trips[city] = first_trip"
   ]
  },
  {
   "cell_type": "markdown",
   "metadata": {},
   "source": [
    "If everything has been filled out correctly, you should see below the printout of each city name (which has been parsed from the data file name) that the first trip has been parsed in the form of a dictionary. When you set up a `DictReader` object, the first row of the data file is normally interpreted as column names. Every other row in the data file will use those column names as keys, as a dictionary is generated for each row.\n",
    "\n",
    "This will be useful since we can refer to quantities by an easily-understandable label instead of just a numeric index. For example, if we have a trip stored in the variable `row`, then we would rather get the trip duration from `row['duration']` instead of `row[0]`.\n",
    "\n",
    "<a id='condensing'></a>\n",
    "### Condensing the Trip Data\n",
    "\n",
    "It should also be observable from the above printout that each city provides different information. Even where the information is the same, the column names and formats are sometimes different. To make things as simple as possible when we get to the actual exploration, we should trim and clean the data. Cleaning the data makes sure that the data formats across the cities are consistent, while trimming focuses only on the parts of the data we are most interested in to make the exploration easier to work with.\n",
    "\n",
    "You will generate new data files with five values of interest for each trip: trip duration, starting month, starting hour, day of the week, and user type. Each of these may require additional wrangling depending on the city:\n",
    "\n",
    "- **Duration**: This has been given to us in seconds (New York, Chicago) or milliseconds (Washington). A more natural unit of analysis will be if all the trip durations are given in terms of minutes.\n",
    "- **Month**, **Hour**, **Day of Week**: Ridership volume is likely to change based on the season, time of day, and whether it is a weekday or weekend. Use the start time of the trip to obtain these values. The New York City data includes the seconds in their timestamps, while Washington and Chicago do not. The [`datetime`](https://docs.python.org/3/library/datetime.html) package will be very useful here to make the needed conversions.\n",
    "- **User Type**: It is possible that users who are subscribed to a bike-share system will have different patterns of use compared to users who only have temporary passes. Washington divides its users into two types: 'Registered' for users with annual, monthly, and other longer-term subscriptions, and 'Casual', for users with 24-hour, 3-day, and other short-term passes. The New York and Chicago data uses 'Subscriber' and 'Customer' for these groups, respectively. For consistency, you will convert the Washington labels to match the other two.\n",
    "\n",
    "\n",
    "**Question 3a**: Complete the helper functions in the code cells below to address each of the cleaning tasks described above."
   ]
  },
  {
   "cell_type": "code",
   "execution_count": 37,
   "metadata": {},
   "outputs": [],
   "source": [
    "def duration_in_mins(datum, city):\n",
    "    \"\"\"\n",
    "    Takes as input a dictionary containing info about a single trip (datum) and\n",
    "    its origin city (city) and returns the trip duration in units of minutes.\n",
    "    \n",
    "    Remember that Washington is in terms of milliseconds while Chicago and NYC\n",
    "    are in terms of seconds. \n",
    "    \n",
    "    HINT: The csv module reads in all of the data as strings, including numeric\n",
    "    values. You will need a function to convert the strings into an appropriate\n",
    "    numeric type when making your transformations.\n",
    "    see https://docs.python.org/3/library/functions.html\n",
    "    \"\"\"\n",
    "    \n",
    "    # YOUR CODE HERE\n",
    " \n",
    "    if city=='Washington':\n",
    "        duration=float(datum['Duration (ms)'])/60000 # 1 minut = 60000 ms\n",
    "    else:\n",
    "        duration=float(datum['tripduration'])/60     # 1minut = 60 second\n",
    "    \n",
    "   \n",
    "    return duration\n",
    "\n",
    "\n",
    "# Some tests to check that your code works. There should be no output if all of\n",
    "# the assertions pass. The `example_trips` dictionary was obtained from when\n",
    "# you printed the first trip from each of the original data files.\n",
    "tests = {'NYC': 13.9833,\n",
    "         'Chicago': 15.4333,\n",
    "         'Washington': 7.1231}\n",
    "\n",
    "for city in tests:\n",
    "    assert abs(duration_in_mins(example_trips[city], city) - tests[city]) < .001"
   ]
  },
  {
   "cell_type": "code",
   "execution_count": 38,
   "metadata": {},
   "outputs": [],
   "source": [
    "def time_of_trip(datum, city):\n",
    "    \"\"\"\n",
    "    Takes as input a dictionary containing info about a single trip (datum) and\n",
    "    its origin city (city) and returns the month, hour, and day of the week in\n",
    "    which the trip was made.\n",
    "    \n",
    "    Remember that NYC includes seconds, while Washington and Chicago do not.\n",
    "    \n",
    "    HINT: You should use the datetime module to parse the original date\n",
    "    strings into a format that is useful for extracting the desired information.\n",
    "    see https://docs.python.org/3/library/datetime.html#strftime-and-strptime-behavior\n",
    "    \"\"\"\n",
    "    \n",
    "    # YOUR CODE HERE\n",
    "    \n",
    "    keyIndex='starttime'\n",
    "    \n",
    "    if city =='Washington':\n",
    "        keyIndex='Start date'\n",
    "\n",
    "    dateFormat= \"%m/%d/20%y %H:%M\"    \n",
    "    if city =='NYC':\n",
    "        dateFormat=\"%m/%d/20%y %H:%M:%S\"\n",
    "    \n",
    "    dateTime = datetime.strptime(datum[keyIndex],dateFormat )\n",
    "    dateTuble = dateTime.timetuple()   \n",
    "       \n",
    "    month=dateTuble[1]\n",
    "    hour=dateTuble[3]\n",
    "    day_of_week=dateTime.strftime(\"%A\")    \n",
    "      \n",
    "    return (month, hour, day_of_week)\n",
    "\n",
    "    \n",
    "\n",
    "\n",
    "\n",
    "\n",
    "# Some tests to check that your code works. There should be no output if all of\n",
    "# the assertions pass. The `example_trips` dictionary was obtained from when\n",
    "# you printed the first trip from each of the original data files.\n",
    "tests = {'NYC': (1, 0, 'Friday'),\n",
    "         'Chicago': (3, 23, 'Thursday'),\n",
    "         'Washington': (3, 22, 'Thursday')}\n",
    "\n",
    "for city in tests:\n",
    "    assert time_of_trip(example_trips[city], city) == tests[city]"
   ]
  },
  {
   "cell_type": "code",
   "execution_count": 39,
   "metadata": {},
   "outputs": [],
   "source": [
    "def type_of_user(datum, city):\n",
    "    \"\"\"\n",
    "    Takes as input a dictionary containing info about a single trip (datum) and\n",
    "    its origin city (city) and returns the type of system user that made the\n",
    "    trip.\n",
    "    \n",
    "    Remember that Washington has different category names compared to Chicago\n",
    "    and NYC. \n",
    "    \"\"\"\n",
    "    \n",
    "    # YOUR CODE HERE\n",
    "       \n",
    "    keyIndex='usertype'\n",
    "  \n",
    "    if city=='Washington':\n",
    "        keyIndex='Member Type'\n",
    "    \n",
    "    user_type=datum[keyIndex]\n",
    "    \n",
    "    if user_type=='Registered':\n",
    "        user_type='Subscriber'\n",
    "    if user_type=='Casual':\n",
    "        user_type='Customer'\n",
    "    \n",
    "    return user_type\n",
    "\n",
    "\n",
    "# Some tests to check that your code works. There should be no output if all of\n",
    "# the assertions pass. The `example_trips` dictionary was obtained from when\n",
    "# you printed the first trip from each of the original data files.\n",
    "tests = {'NYC': 'Customer',\n",
    "         'Chicago': 'Subscriber',\n",
    "         'Washington': 'Subscriber'}\n",
    "\n",
    "for city in tests:\n",
    "    assert type_of_user(example_trips[city], city) == tests[city]"
   ]
  },
  {
   "cell_type": "markdown",
   "metadata": {},
   "source": [
    "**Question 3b**: Now, use the helper functions you wrote above to create a condensed data file for each city consisting only of the data fields indicated above. In the `/examples/` folder, you will see an example datafile from the [Bay Area Bike Share](http://www.bayareabikeshare.com/open-data) before and after conversion. Make sure that your output is formatted to be consistent with the example file."
   ]
  },
  {
   "cell_type": "code",
   "execution_count": 40,
   "metadata": {},
   "outputs": [],
   "source": [
    "def condense_data(in_file, out_file, city):\n",
    "    \"\"\"\n",
    "    This function takes full data from the specified input file\n",
    "    and writes the condensed data to a specified output file. The city\n",
    "    argument determines how the input file will be parsed.\n",
    "    \n",
    "    HINT: See the cell below to see how the arguments are structured!\n",
    "    \"\"\"\n",
    "    \n",
    "    with open(out_file, 'w') as f_out, open(in_file, 'r') as f_in:\n",
    "        # set up csv DictWriter object - writer requires column names for the\n",
    "        # first row as the \"fieldnames\" argument\n",
    "\n",
    "        out_colnames = ['duration','month', 'hour', 'day_of_week','user_type']       \n",
    "        trip_writer = csv.DictWriter(f_out, fieldnames = out_colnames)\n",
    "        trip_writer.writeheader()\n",
    "        \n",
    "        ## TODO: set up csv DictReader object ##\n",
    "        trip_reader = csv.DictReader(f_in)\n",
    "        \n",
    "        # collect data from and process each row\n",
    "        for row in trip_reader:\n",
    "            # set up a dictionary to hold the values for the cleaned and trimmed          \n",
    "            # data point            \n",
    "            new_point = {'duration':duration_in_mins(row, city),\n",
    "                         'month':time_of_trip(row, city)[0],\n",
    "                         'hour':time_of_trip(row, city)[1], \n",
    "                         'day_of_week':time_of_trip(row, city)[2],\n",
    "                         'user_type' :type_of_user(row, city)}\n",
    "\n",
    "            ## TODO: use the helper functions to get the cleaned data from  ##\n",
    "            ## the original data dictionaries.                              ##\n",
    "            ## Note that the keys for the new_point dictionary should match ##\n",
    "            ## the column names set in the DictWriter object above.         ##            \n",
    "\n",
    "            ## TODO: write the processed information to the output file.     ##\n",
    "            ## see https://docs.python.org/3/library/csv.html#writer-objects ##   \n",
    "            trip_writer.writerow(new_point)"
   ]
  },
  {
   "cell_type": "code",
   "execution_count": 41,
   "metadata": {},
   "outputs": [
    {
     "name": "stdout",
     "output_type": "stream",
     "text": [
      "\n",
      "City: Washington\n",
      "OrderedDict([('duration', '7.123116666666666'), ('month', '3'), ('hour', '22'), ('day_of_week', 'Thursday'), ('user_type', 'Subscriber')])\n",
      "\n",
      "City: Chicago\n",
      "OrderedDict([('duration', '15.433333333333334'), ('month', '3'), ('hour', '23'), ('day_of_week', 'Thursday'), ('user_type', 'Subscriber')])\n",
      "\n",
      "City: NYC\n",
      "OrderedDict([('duration', '13.983333333333333'), ('month', '1'), ('hour', '0'), ('day_of_week', 'Friday'), ('user_type', 'Customer')])\n"
     ]
    }
   ],
   "source": [
    "# Run this cell to check your work\n",
    "city_info = {'Washington': {'in_file': './data/Washington-CapitalBikeshare-2016.csv',\n",
    "                            'out_file': './data/Washington-2016-Summary.csv'},\n",
    "             'Chicago': {'in_file': './data/Chicago-Divvy-2016.csv',\n",
    "                         'out_file': './data/Chicago-2016-Summary.csv'},\n",
    "             'NYC': {'in_file': './data/NYC-CitiBike-2016.csv',\n",
    "                     'out_file': './data/NYC-2016-Summary.csv'}}\n",
    "\n",
    "for city, filenames in city_info.items():\n",
    "    condense_data(filenames['in_file'], filenames['out_file'], city)\n",
    "    print_first_point(filenames['out_file'])"
   ]
  },
  {
   "cell_type": "markdown",
   "metadata": {},
   "source": [
    "> **Tip**: If you save a jupyter Notebook, the output from running code blocks will also be saved. However, the state of your workspace will be reset once a new session is started. Make sure that you run all of the necessary code blocks from your previous session to reestablish variables and functions before picking up where you last left off.\n",
    "\n",
    "<a id='eda'></a>\n",
    "## Exploratory Data Analysis\n",
    "\n",
    "Now that you have the data collected and wrangled, you're ready to start exploring the data. In this section you will write some code to compute descriptive statistics from the data. You will also be introduced to the `matplotlib` library to create some basic histograms of the data.\n",
    "\n",
    "<a id='statistics'></a>\n",
    "### Statistics\n",
    "\n",
    "First, let's compute some basic counts. The first cell below contains a function that uses the csv module to iterate through a provided data file, returning the number of trips made by subscribers and customers. The second cell runs this function on the example Bay Area data in the `/examples/` folder. Modify the cells to answer the question below.\n",
    "\n",
    "**Question 4a**: Which city has the highest number of trips? Which city has the highest proportion of trips made by subscribers? Which city has the highest proportion of trips made by short-term customers?\n",
    "\n",
    "**Answer**: \n",
    "NYC has 276798 trips which is the highest number of trips made by all subscribers and customers.\n",
    "Also has highest proportion of trips made by 245896 subscribers\n",
    "and highest proportion of trips made by 30902 short-term customers\n"
   ]
  },
  {
   "cell_type": "code",
   "execution_count": 42,
   "metadata": {},
   "outputs": [],
   "source": [
    "def number_of_trips(filename):\n",
    "    \"\"\"\n",
    "    This function reads in a file with trip data and reports the number of\n",
    "    trips made by subscribers, customers, and total overall.\n",
    "    \"\"\"\n",
    "    with open(filename, 'r') as f_in:\n",
    "        # set up csv reader object\n",
    "        reader = csv.DictReader(f_in)\n",
    "        \n",
    "        # initialize count variables\n",
    "        n_subscribers = 0\n",
    "        n_customers = 0\n",
    "        \n",
    "        # tally up ride types\n",
    "        for row in reader:\n",
    "            if row['user_type'] == 'Subscriber':\n",
    "                n_subscribers += 1\n",
    "            else:\n",
    "                n_customers += 1\n",
    "        \n",
    "        # compute total number of rides\n",
    "        n_total = n_subscribers + n_customers\n",
    "        \n",
    "        # return tallies as a tuple\n",
    "        return(n_subscribers, n_customers, n_total)"
   ]
  },
  {
   "cell_type": "code",
   "execution_count": 43,
   "metadata": {},
   "outputs": [
    {
     "name": "stdout",
     "output_type": "stream",
     "text": [
      "NYC :\n",
      "======== \n",
      "Subscribers : 245896 \n",
      "Customers : 30902 \n",
      "Total : 276798\n",
      "Chicago :\n",
      "======== \n",
      "Subscribers : 54982 \n",
      "Customers : 17149 \n",
      "Total : 72131\n",
      "Washington :\n",
      "======== \n",
      "Subscribers : 51753 \n",
      "Customers : 14573 \n",
      "Total : 66326\n"
     ]
    }
   ],
   "source": [
    "## Modify this and the previous cell to answer Question 4a. Remember to run ##\n",
    "## the function on the cleaned data files you created from Question 3.      ##\n",
    "\n",
    "data_file = './data/NYC-2016-Summary.csv'\n",
    "print('NYC :\\n========',\n",
    "      '\\nSubscribers :',number_of_trips(data_file)[0],\n",
    "      '\\nCustomers :',number_of_trips(data_file)[1],\n",
    "      '\\nTotal :',number_of_trips(data_file)[2],)\n",
    "data_file = './data/Chicago-2016-Summary.csv'\n",
    "print('Chicago :\\n========',\n",
    "      '\\nSubscribers :',number_of_trips(data_file)[0],\n",
    "      '\\nCustomers :',number_of_trips(data_file)[1],\n",
    "      '\\nTotal :',number_of_trips(data_file)[2],)\n",
    "data_file = './data/Washington-2016-Summary.csv'\n",
    "print('Washington :\\n========',\n",
    "      '\\nSubscribers :',number_of_trips(data_file)[0],\n",
    "      '\\nCustomers :',number_of_trips(data_file)[1],\n",
    "      '\\nTotal :',number_of_trips(data_file)[2],)"
   ]
  },
  {
   "cell_type": "markdown",
   "metadata": {},
   "source": [
    "> **Tip**: In order to add additional cells to a notebook, you can use the \"Insert Cell Above\" and \"Insert Cell Below\" options from the menu bar above. There is also an icon in the toolbar for adding new cells, with additional icons for moving the cells up and down the document. By default, new cells are of the code type; you can also specify the cell type (e.g. Code or Markdown) of selected cells from the Cell menu or the dropdown in the toolbar.\n",
    "\n",
    "Now, you will write your own code to continue investigating properties of the data.\n",
    "\n",
    "**Question 4b**: Bike-share systems are designed for riders to take short trips. Most of the time, users are allowed to take trips of 30 minutes or less with no additional charges, with overage charges made for trips of longer than that duration. What is the average trip length for each city? What proportion of rides made in each city are longer than 30 minutes?\n",
    "\n",
    "**Answer**: \n",
    "\n",
    "Rides made in: Washington \n",
    "======================================= \n",
    "The proportion of rides longer than 30 minuts made in Washington is :  10.84 % off total trips. \n",
    "Duration Average is :  18.93  Minuts.\n",
    "\n",
    "Rides made in: Chicago \n",
    "======================================= \n",
    "The proportion of rides longer than 30 minuts made in Chicago is :  8.33 % off total trips. \n",
    "Duration Average is :  16.56  Minuts.\n",
    "\n",
    "Rides made in: NYC \n",
    "======================================= \n",
    "The proportion of rides longer than 30 minuts made in NYC is :  7.3 % off total trips. \n",
    "Duration Average is :  15.81  Minuts.\n"
   ]
  },
  {
   "cell_type": "code",
   "execution_count": 44,
   "metadata": {
    "scrolled": true
   },
   "outputs": [],
   "source": [
    "## Use this and additional cells to answer Question 4b.                 ##\n",
    "##                                                                      ##\n",
    "## HINT: The csv module reads in all of the data as strings, including  ##\n",
    "## numeric values. You will need a function to convert the strings      ##\n",
    "## into an appropriate numeric type before you aggregate data.          ##\n",
    "## TIP: For the Bay Area example, the average trip length is 14 minutes ##\n",
    "## and 3.5% of trips are longer than 30 minutes.                        ##\n",
    "\n",
    "def proportion_of_rides_more_30m(filename):\n",
    "    \"\"\"\n",
    "    this function to calculate proportion of rides made in each city are longer than 30 minutes.\n",
    "    \"\"\"\n",
    "    with open(filename, 'r') as f_in:\n",
    "        \n",
    "        reader = csv.DictReader(f_in)\n",
    "        \n",
    "        n_allTrips = 0\n",
    "        n_tripsM30 = 0  #number of trips are longer than 30 minutes \n",
    "        \n",
    "        for row in reader:\n",
    "            if float(row['duration']) > 30:\n",
    "                n_tripsM30 += 1\n",
    "            n_allTrips+=1 \n",
    "            \n",
    "            \n",
    "        proportion=0 #initialize proportion to zero and remain zero if no result\n",
    "        \n",
    "        if n_allTrips!=0:\n",
    "            proportion=n_tripsM30/n_allTrips*100\n",
    "        \n",
    "        return(proportion)"
   ]
  },
  {
   "cell_type": "code",
   "execution_count": 45,
   "metadata": {},
   "outputs": [],
   "source": [
    "def average_trip_length(filename):\n",
    "    \"\"\"\n",
    "    This function average trip length for each city.\n",
    "    \"\"\"\n",
    "    with open(filename, 'r') as f_in:\n",
    "        reader = csv.DictReader(f_in)\n",
    "        \n",
    "        n_allTrips = 0\n",
    "        n_totalDuration = 0\n",
    "        \n",
    "        for row in reader:\n",
    "            n_totalDuration+= round(float(row['duration']),2)\n",
    "            n_allTrips += 1\n",
    "        \n",
    "        if n_allTrips!=0:\n",
    "            average=n_totalDuration/n_allTrips\n",
    "    \n",
    "        return(average)"
   ]
  },
  {
   "cell_type": "code",
   "execution_count": 46,
   "metadata": {},
   "outputs": [],
   "source": [
    "def print_average_proportion(filename,city): \n",
    "    print ('\\nRides made in:',city,\n",
    "           '\\n=======================================',\n",
    "            '\\nThe proportion of rides longer than 30 minuts made in',city,'is : ',round(proportion_of_rides_more_30m(filename),2),\n",
    "           '% off total trips.',\n",
    "            '\\nDuration Average is : ',round(average_trip_length(filename),2),' Minuts.')"
   ]
  },
  {
   "cell_type": "code",
   "execution_count": 47,
   "metadata": {},
   "outputs": [
    {
     "name": "stdout",
     "output_type": "stream",
     "text": [
      "\n",
      "Rides made in: Washington \n",
      "======================================= \n",
      "The proportion of rides longer than 30 minuts made in Washington is :  10.84 % off total trips. \n",
      "Duration Average is :  18.93  Minuts.\n",
      "\n",
      "Rides made in: Chicago \n",
      "======================================= \n",
      "The proportion of rides longer than 30 minuts made in Chicago is :  8.33 % off total trips. \n",
      "Duration Average is :  16.56  Minuts.\n",
      "\n",
      "Rides made in: NYC \n",
      "======================================= \n",
      "The proportion of rides longer than 30 minuts made in NYC is :  7.3 % off total trips. \n",
      "Duration Average is :  15.81  Minuts.\n"
     ]
    }
   ],
   "source": [
    "data_file = './data/Washington-2016-Summary.csv'\n",
    "print_average_proportion(data_file,'Washington')\n",
    "data_file = './data/Chicago-2016-Summary.csv'\n",
    "print_average_proportion(data_file,'Chicago')\n",
    "data_file = './data/NYC-2016-Summary.csv'\n",
    "print_average_proportion(data_file,'NYC')"
   ]
  },
  {
   "cell_type": "markdown",
   "metadata": {},
   "source": [
    "**Question 4c**: Dig deeper into the question of trip duration based on ridership. Choose one city. Within that city, which type of user takes longer rides on average: Subscribers or Customers?\n",
    "\n",
    "**Answer**: Replace this text with your response!"
   ]
  },
  {
   "cell_type": "code",
   "execution_count": 50,
   "metadata": {},
   "outputs": [],
   "source": [
    "## Use this and additional cells to answer Question 4c. If you have    ##\n",
    "## not done so yet, consider revising some of your previous code to    ##\n",
    "## make use of functions for reusability.                              ##\n",
    "##                                                                     ##\n",
    "## TIP: For the Bay Area example data, you should find the average     ##\n",
    "## Subscriber trip duration to be 9.5 minutes and the average Customer ##\n",
    "## trip duration to be 54.6 minutes. Do the other cities have this     ##\n",
    "## level of difference?                                                ##\n",
    "\n",
    "def who_takes_longer_rides(filename):\n",
    "    \"\"\"\n",
    "    this function to return which type of user takes longer rides on average: Subscribers or Customers\n",
    "    \"\"\"\n",
    "    with open(filename, 'r') as f_in:\n",
    "        reader = csv.DictReader(f_in)\n",
    "        \n",
    "        n_subscribers=0\n",
    "        n_customers=0\n",
    "        averagetriplength=average_trip_length(filename)\n",
    "  \n",
    "        for row in reader:\n",
    "            if round(float(row['duration']),2)>averagetriplength:\n",
    "                if row['user_type'] == 'Subscriber':           \n",
    "                    n_subscribers+=1\n",
    "                else:\n",
    "                    n_customers+=1\n",
    "        if n_subscribers>n_customers:\n",
    "            result ='Subscribers'\n",
    "        elif n_subscribers<n_customers:\n",
    "            result = 'Customers'\n",
    "        else: \n",
    "            result = 'Equals'\n",
    "     \n",
    "        return(result)"
   ]
  },
  {
   "cell_type": "code",
   "execution_count": 51,
   "metadata": {},
   "outputs": [
    {
     "name": "stdout",
     "output_type": "stream",
     "text": [
      "Customers ride more than the average\n"
     ]
    }
   ],
   "source": [
    "data_file = './data/Washington-2016-Summary.csv'\n",
    "result=who_takes_longer_rides(data_file)\n",
    "if result =='Equals':\n",
    "    print ('All the same')\n",
    "else:\n",
    "    print(result,'ride more than the average')"
   ]
  },
  {
   "cell_type": "markdown",
   "metadata": {},
   "source": [
    "<a id='visualizations'></a>\n",
    "### Visualizations\n",
    "\n",
    "The last set of values that you computed should have pulled up an interesting result. While the mean trip time for Subscribers is well under 30 minutes, the mean trip time for Customers is actually _above_ 30 minutes! It will be interesting for us to look at how the trip times are distributed. In order to do this, a new library will be introduced here, `matplotlib`. Run the cell below to load the library and to generate an example plot."
   ]
  },
  {
   "cell_type": "code",
   "execution_count": 19,
   "metadata": {},
   "outputs": [
    {
     "data": {
      "image/png": "[encoded data removed]",
      "text/plain": [
       "<matplotlib.figure.Figure at 0x7ff58811a4e0>"
      ]
     },
     "metadata": {
      "needs_background": "light"
     },
     "output_type": "display_data"
    }
   ],
   "source": [
    "# load library\n",
    "import matplotlib.pyplot as plt\n",
    "\n",
    "# this is a 'magic word' that allows for plots to be displayed\n",
    "# inline with the notebook. If you want to know more, see:\n",
    "# http://ipython.readthedocs.io/en/stable/interactive/magics.html\n",
    "%matplotlib inline \n",
    "\n",
    "# example histogram, data taken from bay area sample\n",
    "data = [ 7.65,  8.92,  7.42,  5.50, 16.17,  4.20,  8.98,  9.62, 11.48, 14.33,\n",
    "        19.02, 21.53,  3.90,  7.97,  2.62,  2.67,  3.08, 14.40, 12.90,  7.83,\n",
    "        25.12,  8.30,  4.93, 12.43, 10.60,  6.17, 10.88,  4.78, 15.15,  3.53,\n",
    "         9.43, 13.32, 11.72,  9.85,  5.22, 15.10,  3.95,  3.17,  8.78,  1.88,\n",
    "         4.55, 12.68, 12.38,  9.78,  7.63,  6.45, 17.38, 11.90, 11.52,  8.63,]\n",
    "plt.hist(data)\n",
    "plt.title('Distribution of Trip Durations')\n",
    "plt.xlabel('Duration (m)')\n",
    "#plt.axis([0, 30, 0, 12])\n",
    "plt.show()"
   ]
  },
  {
   "cell_type": "markdown",
   "metadata": {},
   "source": [
    "In the above cell, we collected fifty trip times in a list, and passed this list as the first argument to the `.hist()` function. This function performs the computations and creates plotting objects for generating a histogram, but the plot is actually not rendered until the `.show()` function is executed. The `.title()` and `.xlabel()` functions provide some labeling for plot context.\n",
    "\n",
    "You will now use these functions to create a histogram of the trip times for the city you selected in question 4c. Don't separate the Subscribers and Customers for now: just collect all of the trip times and plot them."
   ]
  },
  {
   "cell_type": "code",
   "execution_count": 20,
   "metadata": {},
   "outputs": [
    {
     "data": {
      "image/png": "[encoded data removed]",
      "text/plain": [
       "<matplotlib.figure.Figure at 0x7ff588109320>"
      ]
     },
     "metadata": {
      "needs_background": "light"
     },
     "output_type": "display_data"
    }
   ],
   "source": [
    "## Use this and additional cells to collect all of the trip times as a list ##\n",
    "## and then use pyplot functions to generate a histogram of trip times.     ##\n",
    "\n",
    "import matplotlib.pyplot as plt\n",
    "import numpy as np\n",
    "\n",
    "# this is a 'magic word' that allows for plots to be displayed\n",
    "# inline with the notebook. If you want to know more, see:\n",
    "# http://ipython.readthedocs.io/en/stable/interactive/magics.html\n",
    "%matplotlib inline \n",
    "\n",
    "# example histogram, data taken from bay area sample\n",
    "data = []\n",
    "\n",
    "with open('./data/Washington-2016-Summary.csv', 'r') as f_in:\n",
    "        reader = csv.DictReader(f_in)\n",
    "\n",
    "        for row in reader:\n",
    "            data.append(round(float(row['duration']),2))\n",
    "\n",
    "plt.hist(data)\n",
    "plt.title('Distribution of Trip Durations')\n",
    "plt.xlabel('Duration (m)')\n",
    "plt.show()"
   ]
  },
  {
   "cell_type": "markdown",
   "metadata": {},
   "source": [
    "#### If you followed the use of the `.hist()` and `.show()` functions exactly like in the example, you're probably looking at a plot that's completely unexpected. The plot consists of one extremely tall bar on the left, maybe a very short second bar, and a whole lot of empty space in the center and right. Take a look at the duration values on the x-axis. This suggests that there are some highly infrequent outliers in the data. Instead of reprocessing the data, you will use additional parameters with the `.hist()` function to limit the range of data that is plotted. Documentation for the function can be found [[here]](https://matplotlib.org/devdocs/api/_as_gen/matplotlib.pyplot.hist.html#matplotlib.pyplot.hist).\n",
    "\n",
    "**Question 5**: Use the parameters of the `.hist()` function to plot the distribution of trip times for the Subscribers in your selected city. Do the same thing for only the Customers. Add limits to the plots so that only trips of duration less than 75 minutes are plotted. As a bonus, set the plots up so that bars are in five-minute wide intervals. For each group, where is the peak of each distribution? How would you describe the shape of each distribution?\n",
    "\n",
    "**Answer**: \n",
    "for Customer\n",
    "-------------\n",
    "- Peak of distribution is 2000 customer from 15 to 20 minuts (arround average 18.93  Minuts)\n",
    "- More than 1000 Custumers duration between 5 and 30\n",
    "- Between 500 and 1000 Custumers duration between 30 and 40\n",
    "- 4000 Custumers duration between 28 and 44\n",
    "- less than 500 Custumers duration between 40 and 75 and less than 5 minutes\n",
    "\n",
    "for Subscriber\n",
    "-------------\n",
    "- Peak of distribution is more than 17500 subscriber from 5 to 10 Minuts\n",
    "- less than 10000 Custumers duration less than 5 Minutes\n",
    "- between 5000 and 10000 subscriber duration between 10 and 20\n",
    "- less than 3700 subscriber duration mor than 20"
   ]
  },
  {
   "cell_type": "code",
   "execution_count": 26,
   "metadata": {
    "scrolled": true
   },
   "outputs": [
    {
     "data": {
      "image/png": "[encoded data removed]",
      "text/plain": [
       "<matplotlib.figure.Figure at 0x7ff565566550>"
      ]
     },
     "metadata": {
      "needs_background": "light"
     },
     "output_type": "display_data"
    },
    {
     "data": {
      "image/png": "[encoded data removed]",
      "text/plain": [
       "<matplotlib.figure.Figure at 0x7ff565520780>"
      ]
     },
     "metadata": {
      "needs_background": "light"
     },
     "output_type": "display_data"
    }
   ],
   "source": [
    "## Use this and additional cells to answer Question 5. ##\n",
    "\n",
    "data = []\n",
    "\n",
    "with open('./data/Washington-2016-Summary.csv', 'r') as f_in:\n",
    "        reader = csv.DictReader(f_in)\n",
    "\n",
    "        for row in reader:\n",
    "            if row['user_type']=='Customer':\n",
    "                data.append(round(float(row['duration']),2))\n",
    "plt.hist(data,range=[0,75],bins=15)\n",
    "plt.grid() \n",
    "plt.title('Distribution of Customer Trip Durations')\n",
    "plt.xlabel('Duration (m)')\n",
    "plt.show()\n",
    "\n",
    "data = []\n",
    "\n",
    "with open('./data/Washington-2016-Summary.csv', 'r') as f_in:\n",
    "        reader = csv.DictReader(f_in)\n",
    "\n",
    "        for row in reader:\n",
    "            if row['user_type']=='Subscriber':\n",
    "                data.append(round(float(row['duration']),2))\n",
    "plt.hist(data,range=[0,75],bins=15)\n",
    "plt.grid() \n",
    "plt.title('Distribution of Subscriber Trip Durations')\n",
    "plt.xlabel('Duration (m)')\n",
    "plt.show()"
   ]
  },
  {
   "cell_type": "markdown",
   "metadata": {
    "collapsed": true
   },
   "source": [
    "<a id='eda_continued'></a>\n",
    "## Performing Your Own Analysis\n",
    "\n",
    "So far, you've performed an initial exploration into the data available. You have compared the relative volume of trips made between three U.S. cities and the ratio of trips made by Subscribers and Customers. For one of these cities, you have investigated differences between Subscribers and Customers in terms of how long a typical trip lasts. Now it is your turn to continue the exploration in a direction that you choose. Here are a few suggestions for questions to explore:\n",
    "\n",
    "- How does ridership differ by month or season? Which month / season has the highest ridership? Does the ratio of Subscriber trips to Customer trips change depending on the month or season?\n",
    "- Is the pattern of ridership different on the weekends versus weekdays? On what days are Subscribers most likely to use the system? What about Customers? Does the average duration of rides change depending on the day of the week?\n",
    "- During what time of day is the system used the most? Is there a difference in usage patterns for Subscribers and Customers?\n",
    "\n",
    "If any of the questions you posed in your answer to question 1 align with the bullet points above, this is a good opportunity to investigate one of them. As part of your investigation, you will need to create a visualization. If you want to create something other than a histogram, then you might want to consult the [Pyplot documentation](https://matplotlib.org/devdocs/api/pyplot_summary.html). In particular, if you are plotting values across a categorical variable (e.g. city, user type), a bar chart will be useful. The [documentation page for `.bar()`](https://matplotlib.org/devdocs/api/_as_gen/matplotlib.pyplot.bar.html#matplotlib.pyplot.bar) includes links at the bottom of the page with examples for you to build off of for your own use.\n",
    "\n",
    "**Question 6**: Continue the investigation by exploring another question that could be answered by the data available. Document the question you want to explore below. Your investigation should involve at least two variables and should compare at least two groups. You should also use at least one visualization as part of your explorations.\n",
    "\n",
    "**Answer**:\n",
    "- The most Riderships done in Septemper if we suppose the autumn will be in 9,10,11  S o we cannot infistegate that the riderships differ by season, riderships differ by month.\n",
    "- The most Customer riderships done in August and in October by Subscribers.\n",
    "- The ratio of Subscriber trips to Customer trips change  on month >> ratio decreased in march and october and increased on november\n",
    "- Riderships  different on the weekends versus weekdays for Subscriber if we suppose that monday and sunday is weekend\n",
    "- Subscribers most likely to use the system on wednesday and Customer on Monday\n",
    "- Average duration of rides change depending on the day of the week the saturday is the highst duration on average\n",
    "- the system used the most at 17 the must usage by Subscriber"
   ]
  },
  {
   "cell_type": "code",
   "execution_count": 27,
   "metadata": {},
   "outputs": [
    {
     "data": {
      "image/png": "[encoded data removed]",
      "text/plain": [
       "<matplotlib.figure.Figure at 0x7ff565520470>"
      ]
     },
     "metadata": {
      "needs_background": "light"
     },
     "output_type": "display_data"
    },
    {
     "data": {
      "image/png": "[encoded data removed]",
      "text/plain": [
       "<matplotlib.figure.Figure at 0x7ff5654f1160>"
      ]
     },
     "metadata": {
      "needs_background": "light"
     },
     "output_type": "display_data"
    },
    {
     "data": {
      "image/png": "[encoded data removed]",
      "text/plain": [
       "<matplotlib.figure.Figure at 0x7ff565a719b0>"
      ]
     },
     "metadata": {
      "needs_background": "light"
     },
     "output_type": "display_data"
    },
    {
     "data": {
      "image/png": "[encoded data removed]",
      "text/plain": [
       "<matplotlib.figure.Figure at 0x7ff565a83828>"
      ]
     },
     "metadata": {
      "needs_background": "light"
     },
     "output_type": "display_data"
    },
    {
     "data": {
      "image/png": "[encoded data removed]",
      "text/plain": [
       "<matplotlib.figure.Figure at 0x7ff565adfc88>"
      ]
     },
     "metadata": {
      "needs_background": "light"
     },
     "output_type": "display_data"
    }
   ],
   "source": [
    "## Use this and additional cells to continue to explore the dataset. ##\n",
    "## Once you have performed your exploration, document your findings  ##\n",
    "## in the Markdown cell above.  ##\n",
    "from collections import Counter\n",
    "data = []\n",
    "\n",
    "with open('./data/NYC-2016-Summary.csv', 'r') as f_in:\n",
    "        reader = csv.DictReader(f_in)\n",
    "\n",
    "        for row in reader:\n",
    "                data.append(int(row['month']))\n",
    "\n",
    "##################################Data Chart #############################################\n",
    "# help from https://matplotlib.org/devdocs/api/_as_gen/matplotlib.pyplot.bar.html#matplotlib.pyplot.bar\n",
    "\n",
    "datacounter=Counter(data)\n",
    "plt.bar(np.arange(12), datacounter.values())\n",
    "\n",
    "plt.grid() \n",
    "plt.xlabel ('Month')\n",
    "plt.ylabel('Frequency')\n",
    "\n",
    "plt.title('Distribution of Riderships by Month')\n",
    "plt.xticks(np.arange(12) , set(data))  #[1,2,3,4,5,6,7,8,9,10,11,12])\n",
    "plt.show()\n",
    "\n",
    "##################################Customer & Subscriber Chart #############################################\n",
    "\n",
    "Customer=[]\n",
    "Subscriber=[]\n",
    "\n",
    "with open('./data/NYC-2016-Summary.csv', 'r') as f_in:\n",
    "                reader = csv.DictReader(f_in)\n",
    "                for row in reader:\n",
    "                    if row['user_type']=='Customer':\n",
    "                        Customer.append(int(row['month']))\n",
    "                    else:\n",
    "                        Subscriber.append(int(row['month']))                    \n",
    "\n",
    "customercounter=Counter(Customer)\n",
    "\n",
    "plt.bar(np.arange(12), customercounter.values(),color='skyblue',label='Customer')\n",
    "\n",
    "plt.grid() \n",
    "plt.xlabel ('Month')\n",
    "plt.ylabel('Frequency')\n",
    "\n",
    "plt.title('Distribution of Customer Riderships by Month')\n",
    "plt.xticks(np.arange(12) ,set(Customer))\n",
    "plt.show()\n",
    "\n",
    "\n",
    "subscribercounter=Counter(Subscriber)\n",
    "\n",
    "plt.bar(np.arange(12) , subscribercounter.values(), color='cadetblue',label='Subscriber')\n",
    "\n",
    "plt.grid() \n",
    "plt.xlabel ('Month')\n",
    "plt.ylabel('Frequency')\n",
    "\n",
    "plt.title('Distribution of Subscriber Riderships by Month')\n",
    "plt.xticks(np.arange(12) , set(Subscriber))\n",
    "plt.show()\n",
    "\n",
    "\n",
    "#####################\n",
    "#help from : https://pythonspot.com/matplotlib-bar-chart/\n",
    "\n",
    "\n",
    "customercounter=Counter(Customer)\n",
    "subscribercounter=Counter(Subscriber)\n",
    "\n",
    "plt.bar(np.arange(12), customercounter.values(), .4,color='skyblue',align='edge',label='Customer')\n",
    "plt.bar(np.arange(12) , subscribercounter.values(), -.4, color='cadetblue',align='edge',label='Subscriber')\n",
    "\n",
    "plt.grid() \n",
    "plt.xlabel ('Month')\n",
    "plt.ylabel('Frequency')\n",
    "\n",
    "plt.title('Distribution of Riderships by Month')\n",
    "plt.xticks(np.arange(12) ,set(data))\n",
    "plt.legend() \n",
    "plt.show()\n",
    "\n",
    "# help from https://python-graph-gallery.com/121-line-chart-customization/\n",
    "#https://stackoverflow.com/questions/36458666/create-a-line-chart-from-dictionary-matplotlib\n",
    "#https://thispointer.com/python-how-to-sort-a-dictionary-by-key-or-value/\n",
    "\n",
    "customersorted=dict(sorted(customercounter.items()))\n",
    "subscribersorted=dict(sorted(subscribercounter.items()))\n",
    "\n",
    "ratio={k: str(round(customersorted[k]*100/subscribersorted[k],2)) +'%' for k in subscribersorted}\n",
    "\n",
    "plt.grid() \n",
    "plt.xlabel ('Month')\n",
    "plt.ylabel('Customer to Subscriber')\n",
    "plt.title('Ratio of Riderships')\n",
    "plt.plot(range(len(ratio)), list(ratio.values()))\n",
    "plt.xticks(range(len(ratio)), list(ratio.keys()))\n",
    "plt.show()\n"
   ]
  },
  {
   "cell_type": "code",
   "execution_count": 28,
   "metadata": {},
   "outputs": [
    {
     "data": {
      "image/png": "[encoded data removed]",
      "text/plain": [
       "<matplotlib.figure.Figure at 0x7ff5644dbd68>"
      ]
     },
     "metadata": {
      "needs_background": "light"
     },
     "output_type": "display_data"
    },
    {
     "data": {
      "image/png": "[encoded data removed]",
      "text/plain": [
       "<matplotlib.figure.Figure at 0x7ff5658b7ac8>"
      ]
     },
     "metadata": {
      "needs_background": "light"
     },
     "output_type": "display_data"
    }
   ],
   "source": [
    "\n",
    "data = []\n",
    "\n",
    "with open('./data/NYC-2016-Summary.csv', 'r') as f_in:\n",
    "        reader = csv.DictReader(f_in)\n",
    "\n",
    "        for row in reader:\n",
    "                data.append(row['day_of_week'])\n",
    "                \n",
    "datacounter=Counter(data)\n",
    "plt.figure(figsize=(10, 4))\n",
    "plt.bar(np.arange(7), datacounter.values())\n",
    "plt.grid() \n",
    "plt.xlabel ('Day of week')\n",
    "plt.ylabel('Frequency')\n",
    "plt.title('Distribution of Riderships by Day of week')\n",
    "plt.xticks(np.arange(7) , set(data))\n",
    "plt.show()\n",
    "\n",
    "Customer=[]\n",
    "Subscriber=[]\n",
    "\n",
    "with open('./data/NYC-2016-Summary.csv', 'r') as f_in:\n",
    "                reader = csv.DictReader(f_in)\n",
    "                for row in reader:\n",
    "                    if row['user_type']=='Customer':\n",
    "                        Customer.append(row['day_of_week'])\n",
    "                    else:\n",
    "                        Subscriber.append(row['day_of_week'])                    \n",
    "\n",
    "\n",
    "customercounter=Counter(Customer)\n",
    "subscribercounter=Counter(Subscriber)\n",
    "plt.figure(figsize=(15, 4))\n",
    "plt.bar(np.arange(7) , subscribercounter.values(), -.5, color='cadetblue',align='edge',label='Subscriber')\n",
    "plt.bar(np.arange(7), customercounter.values(), .5,color='skyblue',align='edge',label='Customer')\n",
    "\n",
    "plt.grid() \n",
    "plt.xlabel ('Day of week')\n",
    "plt.ylabel('Frequency')\n",
    "\n",
    "plt.title('Distribution of Riderships by Day of week')\n",
    "plt.xticks(np.arange(7) ,set(data))\n",
    "plt.legend() \n",
    "plt.show()"
   ]
  },
  {
   "cell_type": "code",
   "execution_count": 29,
   "metadata": {},
   "outputs": [
    {
     "data": {
      "image/png": "[encoded data removed]",
      "text/plain": [
       "<matplotlib.figure.Figure at 0x7ff5644f0a90>"
      ]
     },
     "metadata": {
      "needs_background": "light"
     },
     "output_type": "display_data"
    }
   ],
   "source": [
    "totalSunday=0\n",
    "totalMonday=0\n",
    "totalWednesday=0\n",
    "totalThersday=0\n",
    "totalFriday=0\n",
    "totalTuseday=0\n",
    "totalSaturday=0\n",
    "totalSundayAvg=0\n",
    "totalMondayAvg=0\n",
    "totalWednesdayAvg=0\n",
    "totalThersdayAvg=0\n",
    "totalFridayAvg=0\n",
    "totalTusedayAvg=0\n",
    "totalSaturdayAvg=0\n",
    "totalSundayCnt=0\n",
    "totalMondayCnt=0\n",
    "totalWednesdayCnt=0\n",
    "totalThersdayCnt=0\n",
    "totalFridayCnt=0\n",
    "totalTusedayCnt=0\n",
    "totalSaturdayCnt=0\n",
    "with open('./data/NYC-2016-Summary.csv', 'r') as f_in:\n",
    "            reader = csv.DictReader(f_in)\n",
    "            for row in reader:\n",
    "                if row['day_of_week']=='Saturday':\n",
    "                    totalSaturday=+float(row['duration'])\n",
    "                    totalSaturdayCnt=+1\n",
    "                elif row['day_of_week']=='Sunday':\n",
    "                    totalSunday=+float(row['duration'])\n",
    "                    totalSundayCnt=+1\n",
    "                elif row['day_of_week']=='Monday':\n",
    "                    totalMonday=+float(row['duration'])\n",
    "                    totalMondayCnt=+1\n",
    "                elif row['day_of_week']=='Tuesday':\n",
    "                    totalTuseday=+float(row['duration'])\n",
    "                    totalTusedayCnt=+1                    \n",
    "                elif row['day_of_week']=='Wednesday':\n",
    "                    totalWednesday=+float(row['duration'])\n",
    "                    totalWednesdayCnt=+1\n",
    "                elif row['day_of_week']=='Thursday':\n",
    "                    totalThersday=+float(row['duration'])\n",
    "                    totalThersdayCnt=+1                                \n",
    "                elif row['day_of_week']=='Friday':\n",
    "                    totalFriday=+float(row['duration'])\n",
    "                    totalFridayCnt=+1                        \n",
    "\n",
    "\n",
    "\n",
    "\n",
    "\n",
    "if totalSundayCnt!=0:\n",
    "        totalSundayAvg=totalSunday/totalSundayCnt\n",
    "if totalMondayCnt!=0:\n",
    "        totalMondayAvg=totalMonday/totalMondayCnt\n",
    "if totalWednesdayCnt!=0:\n",
    "        totalWednesdayAvg=totalWednesday/totalWednesdayCnt\n",
    "if totalThersdayCnt!=0:\n",
    "        totalThersdayAvg=totalThersday/totalThersdayCnt\n",
    "if totalFridayCnt!=0:\n",
    "        totalFridayAvg=totalFriday/totalFridayCnt\n",
    "if totalTusedayCnt!=0:\n",
    "        totalTusedayAvg=totalTuseday/totalTusedayCnt\n",
    "if totalSaturdayCnt!=0:\n",
    "        totalSaturdayAvg=totalSaturday/totalSaturdayCnt\n",
    "\n",
    "dayavrgduration = {\n",
    "    'Saturday': totalSaturdayAvg,\n",
    "    'Sunday' : totalSundayAvg ,\n",
    "    'Monday' : totalMondayAvg,\n",
    "    'Wednesday' : totalWednesdayAvg,\n",
    "     'Thursday' : totalThersdayAvg,\n",
    "     'Friday' : totalFridayAvg,    \n",
    "    'Tuesday' : totalTusedayAvg\n",
    "    }\n",
    "\n",
    "plt.figure(figsize=(15, 8))\n",
    "plt.bar(np.arange(7) , dayavrgduration.values())\n",
    "\n",
    "plt.grid() \n",
    "plt.xlabel ('Day of week')\n",
    "plt.ylabel('Average Duration (m)')\n",
    "\n",
    "plt.title('Distribution of Average Duration by Day of week')\n",
    "plt.xticks(np.arange(7) ,\n",
    "           ['Saturday',\n",
    "            'Sunday',\n",
    "            'Monday',\n",
    "            'Wednesday',\n",
    "            'Thursday',\n",
    "            'Friday' ,    \n",
    "            'Tuesday'])\n",
    "\n",
    "plt.legend() \n",
    "plt.show()"
   ]
  },
  {
   "cell_type": "code",
   "execution_count": 30,
   "metadata": {},
   "outputs": [
    {
     "data": {
      "image/png": "[encoded data removed]",
      "text/plain": [
       "<matplotlib.figure.Figure at 0x7ff565adf400>"
      ]
     },
     "metadata": {
      "needs_background": "light"
     },
     "output_type": "display_data"
    }
   ],
   "source": [
    "data = []\n",
    "\n",
    "with open('./data/NYC-2016-Summary.csv', 'r') as f_in:\n",
    "        reader = csv.DictReader(f_in)\n",
    "\n",
    "        for row in reader:\n",
    "                data.append(int(row['hour']))\n",
    "                \n",
    "Customer=[]\n",
    "Subscriber=[]\n",
    "\n",
    "with open('./data/NYC-2016-Summary.csv', 'r') as f_in:\n",
    "                reader = csv.DictReader(f_in)\n",
    "                for row in reader:\n",
    "                    if row['user_type']=='Customer':\n",
    "                        Customer.append(int(row['hour']))\n",
    "                    else:\n",
    "                        Subscriber.append(int(row['hour']))                    \n",
    "\n",
    "\n",
    "customercounter=Counter(Customer)\n",
    "subscribercounter=Counter(Subscriber)\n",
    "plt.figure(figsize=(15, 4))\n",
    "plt.bar(np.arange(24) , subscribercounter.values(), -.5, color='cadetblue',align='edge',label='Subscriber')\n",
    "plt.bar(np.arange(24), customercounter.values(), .5,color='skyblue',align='edge',label='Customer')\n",
    "\n",
    "plt.grid() \n",
    "plt.xlabel ('Hour')\n",
    "plt.ylabel('Frequency')\n",
    "\n",
    "plt.title('Distribution of Riderships by Day of week')\n",
    "plt.xticks(np.arange(24) ,set(data))\n",
    "plt.legend() \n",
    "plt.show()"
   ]
  },
  {
   "cell_type": "markdown",
   "metadata": {},
   "source": [
    "<a id='conclusions'></a>\n",
    "## Conclusions\n",
    "\n",
    "Congratulations on completing the project! This is only a sampling of the data analysis process: from generating questions, wrangling the data, and to exploring the data. Normally, at this point in the data analysis process, you might want to draw conclusions about the data by performing a statistical test or fitting the data to a model for making predictions. There are also a lot of potential analyses that could be performed on the data which are not possible with only the data provided. For example, detailed location data has not been investigated. Where are the most commonly used docks? What are the most common routes? As another example, weather has potential to have a large impact on daily ridership. How much is ridership impacted when there is rain or snow? Are subscribers or customers affected more by changes in weather?\n",
    "\n",
    "**Question 7**: Putting the bike share data aside, think of a topic or field of interest where you would like to be able to apply the techniques of data science. What would you like to be able to learn from your chosen subject?\n",
    "\n",
    "**Answer**: Encorage Subscribers to use system in low usage in a day or month for this we need info that the subscribers who have long time not using system to send them provide offers to use system \n",
    "\n",
    "> **Tip**: If we want to share the results of our analysis with others, we aren't limited to giving them a copy of the jupyter Notebook (.ipynb) file. We can also export the Notebook output in a form that can be opened even for those without Python installed. From the **File** menu in the upper left, go to the **Download as** submenu. You can then choose a different format that can be viewed more generally, such as HTML (.html) or\n",
    "PDF (.pdf). You may need additional packages or software to perform these exports.\n",
    "\n",
    "> If you are working on this project via the Project Notebook page in the classroom, you can also submit this project directly from the workspace. **Before you do that**, you should save an HTML copy of the completed project to the workspace by running the code cell below. If it worked correctly, the output code should be a 0, and if you click on the jupyter icon in the upper left, you should see your .html document in the workspace directory. Alternatively, you can download the .html copy of your report following the steps in the previous paragraph, then _upload_ the report to the directory (by clicking the jupyter icon).\n",
    "\n",
    "> Either way, once you've gotten the .html report in your workspace, you can complete your submission by clicking on the \"Submit Project\" button to the lower-right hand side of the workspace."
   ]
  },
  {
   "cell_type": "code",
   "execution_count": 52,
   "metadata": {},
   "outputs": [
    {
     "data": {
      "text/plain": [
       "0"
      ]
     },
     "execution_count": 52,
     "metadata": {},
     "output_type": "execute_result"
    }
   ],
   "source": [
    "from subprocess import call\n",
    "call(['python', '-m', 'nbconvert', 'Bike_Share_Analysis-Edited-By-Amna.ipynb'])"
   ]
  }
 ],
 "metadata": {
  "anaconda-cloud": {},
  "kernelspec": {
   "display_name": "Python 3",
   "language": "python",
   "name": "python3"
  },
  "language_info": {
   "codemirror_mode": {
    "name": "ipython",
    "version": 3
   },
   "file_extension": ".py",
   "mimetype": "text/x-python",
   "name": "python",
   "nbconvert_exporter": "python",
   "pygments_lexer": "ipython3",
   "version": "3.6.3"
  }
 },
 "nbformat": 4,
 "nbformat_minor": 1
}
